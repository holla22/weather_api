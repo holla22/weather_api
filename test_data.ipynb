{
 "metadata": {
  "language_info": {
   "codemirror_mode": {
    "name": "ipython",
    "version": 3
   },
   "file_extension": ".py",
   "mimetype": "text/x-python",
   "name": "python",
   "nbconvert_exporter": "python",
   "pygments_lexer": "ipython3",
   "version": "3.7.4-final"
  },
  "orig_nbformat": 2,
  "kernelspec": {
   "name": "python3",
   "display_name": "Python 3",
   "language": "python"
  }
 },
 "nbformat": 4,
 "nbformat_minor": 2,
 "cells": [
  {
   "cell_type": "code",
   "execution_count": 40,
   "metadata": {},
   "outputs": [],
   "source": [
    "import json\n",
    "import statistics\n",
    "\n",
    "forcast = '''{\n",
    "    \"Headline\": {\n",
    "        \"EffectiveDate\": \"2021-02-17T19:00:00+02:00\",\n",
    "        \"EffectiveEpochDate\": 1613581200,\n",
    "        \"Severity\": 3,\n",
    "        \"Text\": \"Expect showery weather Wednesday evening through Thursday morning\",\n",
    "        \"Category\": \"rain\",\n",
    "        \"EndDate\": \"2021-02-18T13:00:00+02:00\",\n",
    "        \"EndEpochDate\": 1613646000,\n",
    "        \"MobileLink\": \"http://m.accuweather.com/en/za/cape-town/306633/extended-weather-forecast/306633?lang=en-us\",\n",
    "        \"Link\": \"http://www.accuweather.com/en/za/cape-town/306633/daily-weather-forecast/306633?lang=en-us\"\n",
    "    },\n",
    "    \"DailyForecasts\": [\n",
    "        {\n",
    "            \"Date\": \"2021-02-17T07:00:00+02:00\",\n",
    "            \"EpochDate\": 1613538000,\n",
    "            \"Temperature\": {\n",
    "                \"Minimum\": {\n",
    "                    \"Value\": 62,\n",
    "                    \"Unit\": \"F\",\n",
    "                    \"UnitType\": 18\n",
    "                },\n",
    "                \"Maximum\": {\n",
    "                    \"Value\": 76,\n",
    "                    \"Unit\": \"F\",\n",
    "                    \"UnitType\": 18\n",
    "                }\n",
    "            },\n",
    "            \"Day\": {\n",
    "                \"Icon\": 2,\n",
    "                \"IconPhrase\": \"Mostly sunny\",\n",
    "                \"HasPrecipitation\": false\n",
    "            },\n",
    "            \"Night\": {\n",
    "                \"Icon\": 39,\n",
    "                \"IconPhrase\": \"Partly cloudy w/ showers\",\n",
    "                \"HasPrecipitation\": true,\n",
    "                \"PrecipitationType\": \"Rain\",\n",
    "                \"PrecipitationIntensity\": \"Light\"\n",
    "            },\n",
    "            \"Sources\": [\n",
    "                \"AccuWeather\"\n",
    "            ],\n",
    "            \"MobileLink\": \"http://m.accuweather.com/en/za/cape-town/306633/daily-weather-forecast/306633?day=1&lang=en-us\",\n",
    "            \"Link\": \"http://www.accuweather.com/en/za/cape-town/306633/daily-weather-forecast/306633?day=1&lang=en-us\"\n",
    "        },\n",
    "        {\n",
    "            \"Date\": \"2021-02-18T07:00:00+02:00\",\n",
    "            \"EpochDate\": 1613624400,\n",
    "            \"Temperature\": {\n",
    "                \"Minimum\": {\n",
    "                    \"Value\": 63,\n",
    "                    \"Unit\": \"F\",\n",
    "                    \"UnitType\": 18\n",
    "                },\n",
    "                \"Maximum\": {\n",
    "                    \"Value\": 72,\n",
    "                    \"Unit\": \"F\",\n",
    "                    \"UnitType\": 18\n",
    "                }\n",
    "            },\n",
    "            \"Day\": {\n",
    "                \"Icon\": 14,\n",
    "                \"IconPhrase\": \"Partly sunny w/ showers\",\n",
    "                \"HasPrecipitation\": true,\n",
    "                \"PrecipitationType\": \"Rain\",\n",
    "                \"PrecipitationIntensity\": \"Moderate\"\n",
    "            },\n",
    "            \"Night\": {\n",
    "                \"Icon\": 34,\n",
    "                \"IconPhrase\": \"Mostly clear\",\n",
    "                \"HasPrecipitation\": false\n",
    "            },\n",
    "            \"Sources\": [\n",
    "                \"AccuWeather\"\n",
    "            ],\n",
    "            \"MobileLink\": \"http://m.accuweather.com/en/za/cape-town/306633/daily-weather-forecast/306633?day=2&lang=en-us\",\n",
    "            \"Link\": \"http://www.accuweather.com/en/za/cape-town/306633/daily-weather-forecast/306633?day=2&lang=en-us\"\n",
    "        },\n",
    "        {\n",
    "            \"Date\": \"2021-02-19T07:00:00+02:00\",\n",
    "            \"EpochDate\": 1613710800,\n",
    "            \"Temperature\": {\n",
    "                \"Minimum\": {\n",
    "                    \"Value\": 61,\n",
    "                    \"Unit\": \"F\",\n",
    "                    \"UnitType\": 18\n",
    "                },\n",
    "                \"Maximum\": {\n",
    "                    \"Value\": 73,\n",
    "                    \"Unit\": \"F\",\n",
    "                    \"UnitType\": 18\n",
    "                }\n",
    "            },\n",
    "            \"Day\": {\n",
    "                \"Icon\": 2,\n",
    "                \"IconPhrase\": \"Mostly sunny\",\n",
    "                \"HasPrecipitation\": false\n",
    "            },\n",
    "            \"Night\": {\n",
    "                \"Icon\": 35,\n",
    "                \"IconPhrase\": \"Partly cloudy\",\n",
    "                \"HasPrecipitation\": false\n",
    "            },\n",
    "            \"Sources\": [\n",
    "                \"AccuWeather\"\n",
    "            ],\n",
    "            \"MobileLink\": \"http://m.accuweather.com/en/za/cape-town/306633/daily-weather-forecast/306633?day=3&lang=en-us\",\n",
    "            \"Link\": \"http://www.accuweather.com/en/za/cape-town/306633/daily-weather-forecast/306633?day=3&lang=en-us\"\n",
    "        },\n",
    "        {\n",
    "            \"Date\": \"2021-02-20T07:00:00+02:00\",\n",
    "            \"EpochDate\": 1613797200,\n",
    "            \"Temperature\": {\n",
    "                \"Minimum\": {\n",
    "                    \"Value\": 61,\n",
    "                    \"Unit\": \"F\",\n",
    "                    \"UnitType\": 18\n",
    "                },\n",
    "                \"Maximum\": {\n",
    "                    \"Value\": 71,\n",
    "                    \"Unit\": \"F\",\n",
    "                    \"UnitType\": 18\n",
    "                }\n",
    "            },\n",
    "            \"Day\": {\n",
    "                \"Icon\": 3,\n",
    "                \"IconPhrase\": \"Partly sunny\",\n",
    "                \"HasPrecipitation\": false\n",
    "            },\n",
    "            \"Night\": {\n",
    "                \"Icon\": 34,\n",
    "                \"IconPhrase\": \"Mostly clear\",\n",
    "                \"HasPrecipitation\": false\n",
    "            },\n",
    "            \"Sources\": [\n",
    "                \"AccuWeather\"\n",
    "            ],\n",
    "            \"MobileLink\": \"http://m.accuweather.com/en/za/cape-town/306633/daily-weather-forecast/306633?day=4&lang=en-us\",\n",
    "            \"Link\": \"http://www.accuweather.com/en/za/cape-town/306633/daily-weather-forecast/306633?day=4&lang=en-us\"\n",
    "        },\n",
    "        {\n",
    "            \"Date\": \"2021-02-21T07:00:00+02:00\",\n",
    "            \"EpochDate\": 1613883600,\n",
    "            \"Temperature\": {\n",
    "                \"Minimum\": {\n",
    "                    \"Value\": 61,\n",
    "                    \"Unit\": \"F\",\n",
    "                    \"UnitType\": 18\n",
    "                },\n",
    "                \"Maximum\": {\n",
    "                    \"Value\": 69,\n",
    "                    \"Unit\": \"F\",\n",
    "                    \"UnitType\": 18\n",
    "                }\n",
    "            },\n",
    "            \"Day\": {\n",
    "                \"Icon\": 4,\n",
    "                \"IconPhrase\": \"Intermittent clouds\",\n",
    "                \"HasPrecipitation\": true,\n",
    "                \"PrecipitationType\": \"Rain\",\n",
    "                \"PrecipitationIntensity\": \"Light\"\n",
    "            },\n",
    "            \"Night\": {\n",
    "                \"Icon\": 33,\n",
    "                \"IconPhrase\": \"Clear\",\n",
    "                \"HasPrecipitation\": false\n",
    "            },\n",
    "            \"Sources\": [\n",
    "                \"AccuWeather\"\n",
    "            ],\n",
    "            \"MobileLink\": \"http://m.accuweather.com/en/za/cape-town/306633/daily-weather-forecast/306633?day=5&lang=en-us\",\n",
    "            \"Link\": \"http://www.accuweather.com/en/za/cape-town/306633/daily-weather-forecast/306633?day=5&lang=en-us\"\n",
    "        }\n",
    "    ]\n",
    "}'''\n",
    "\n"
   ]
  },
  {
   "cell_type": "code",
   "execution_count": 10,
   "metadata": {},
   "outputs": [
    {
     "output_type": "stream",
     "name": "stdout",
     "text": [
      "[{'Date': '2021-02-17T07:00:00+02:00', 'EpochDate': 1613538000, 'Temperature': {'Minimum': {'Value': 62, 'Unit': 'F', 'UnitType': 18}, 'Maximum': {'Value': 76, 'Unit': 'F', 'UnitType': 18}}, 'Day': {'Icon': 2, 'IconPhrase': 'Mostly sunny', 'HasPrecipitation': False}, 'Night': {'Icon': 39, 'IconPhrase': 'Partly cloudy w/ showers', 'HasPrecipitation': True, 'PrecipitationType': 'Rain', 'PrecipitationIntensity': 'Light'}, 'Sources': ['AccuWeather'], 'MobileLink': 'http://m.accuweather.com/en/za/cape-town/306633/daily-weather-forecast/306633?day=1&lang=en-us', 'Link': 'http://www.accuweather.com/en/za/cape-town/306633/daily-weather-forecast/306633?day=1&lang=en-us'}, {'Date': '2021-02-18T07:00:00+02:00', 'EpochDate': 1613624400, 'Temperature': {'Minimum': {'Value': 63, 'Unit': 'F', 'UnitType': 18}, 'Maximum': {'Value': 72, 'Unit': 'F', 'UnitType': 18}}, 'Day': {'Icon': 14, 'IconPhrase': 'Partly sunny w/ showers', 'HasPrecipitation': True, 'PrecipitationType': 'Rain', 'PrecipitationIntensity': 'Moderate'}, 'Night': {'Icon': 34, 'IconPhrase': 'Mostly clear', 'HasPrecipitation': False}, 'Sources': ['AccuWeather'], 'MobileLink': 'http://m.accuweather.com/en/za/cape-town/306633/daily-weather-forecast/306633?day=2&lang=en-us', 'Link': 'http://www.accuweather.com/en/za/cape-town/306633/daily-weather-forecast/306633?day=2&lang=en-us'}, {'Date': '2021-02-19T07:00:00+02:00', 'EpochDate': 1613710800, 'Temperature': {'Minimum': {'Value': 61, 'Unit': 'F', 'UnitType': 18}, 'Maximum': {'Value': 73, 'Unit': 'F', 'UnitType': 18}}, 'Day': {'Icon': 2, 'IconPhrase': 'Mostly sunny', 'HasPrecipitation': False}, 'Night': {'Icon': 35, 'IconPhrase': 'Partly cloudy', 'HasPrecipitation': False}, 'Sources': ['AccuWeather'], 'MobileLink': 'http://m.accuweather.com/en/za/cape-town/306633/daily-weather-forecast/306633?day=3&lang=en-us', 'Link': 'http://www.accuweather.com/en/za/cape-town/306633/daily-weather-forecast/306633?day=3&lang=en-us'}, {'Date': '2021-02-20T07:00:00+02:00', 'EpochDate': 1613797200, 'Temperature': {'Minimum': {'Value': 61, 'Unit': 'F', 'UnitType': 18}, 'Maximum': {'Value': 71, 'Unit': 'F', 'UnitType': 18}}, 'Day': {'Icon': 3, 'IconPhrase': 'Partly sunny', 'HasPrecipitation': False}, 'Night': {'Icon': 34, 'IconPhrase': 'Mostly clear', 'HasPrecipitation': False}, 'Sources': ['AccuWeather'], 'MobileLink': 'http://m.accuweather.com/en/za/cape-town/306633/daily-weather-forecast/306633?day=4&lang=en-us', 'Link': 'http://www.accuweather.com/en/za/cape-town/306633/daily-weather-forecast/306633?day=4&lang=en-us'}, {'Date': '2021-02-21T07:00:00+02:00', 'EpochDate': 1613883600, 'Temperature': {'Minimum': {'Value': 61, 'Unit': 'F', 'UnitType': 18}, 'Maximum': {'Value': 69, 'Unit': 'F', 'UnitType': 18}}, 'Day': {'Icon': 4, 'IconPhrase': 'Intermittent clouds', 'HasPrecipitation': True, 'PrecipitationType': 'Rain', 'PrecipitationIntensity': 'Light'}, 'Night': {'Icon': 33, 'IconPhrase': 'Clear', 'HasPrecipitation': False}, 'Sources': ['AccuWeather'], 'MobileLink': 'http://m.accuweather.com/en/za/cape-town/306633/daily-weather-forecast/306633?day=5&lang=en-us', 'Link': 'http://www.accuweather.com/en/za/cape-town/306633/daily-weather-forecast/306633?day=5&lang=en-us'}]\n"
     ]
    }
   ],
   "source": [
    "y = json.loads(forcast)\n",
    "\n",
    "#print(y['DailyForecasts'])\n",
    "\n"
   ]
  },
  {
   "cell_type": "code",
   "execution_count": 60,
   "metadata": {},
   "outputs": [
    {
     "output_type": "stream",
     "name": "stdout",
     "text": [
      "{'Forcasts': [{'Date': '2021-02-17T07:00:00+02:00', 'Min': 62, 'Max': 76}, {'Date': '2021-02-18T07:00:00+02:00', 'Min': 63, 'Max': 72}, {'Date': '2021-02-19T07:00:00+02:00', 'Min': 61, 'Max': 73}, {'Date': '2021-02-20T07:00:00+02:00', 'Min': 61, 'Max': 71}, {'Date': '2021-02-21T07:00:00+02:00', 'Min': 61, 'Max': 69}]}\n61.6 - AVG MIN\n72.2 - AVG MAX\n61\n72\n"
     ]
    }
   ],
   "source": [
    "\n",
    "tlist_max = []\n",
    "tlist_min = []\n",
    "my_dict = {'Forcasts': []} \n",
    "for df in y['DailyForecasts']:\n",
    "    #print(df['Date'])\n",
    "    #print(\"MIN: \" + str(df['Temperature']['Minimum']['Value']))\n",
    "    #print(\"MAX: \" + str(df['Temperature']['Maximum']['Value']))\n",
    "\n",
    "    tlist_min.append(df['Temperature']['Minimum']['Value'])\n",
    "    tlist_max.append(df['Temperature']['Maximum']['Value'])\n",
    "   \n",
    "\n",
    "\n",
    "    # build up dictionary\n",
    "    my_dict['Forcasts'].append({'Date': df['Date'], 'Min': df['Temperature']['Minimum']['Value'], 'Max': df['Temperature']['Maximum']['Value'] })\n",
    "\n",
    "\n",
    "\n",
    "# print data\n",
    "print(my_dict)\n",
    "# get avarage\n",
    "avg_min = statistics.mean(tlist_min)\n",
    "avg_max = statistics.mean(tlist_max)\n",
    "med_min = statistics.median(tlist_min)\n",
    "med_max = statistics.median(tlist_max)\n",
    "\n",
    "# print the list\n",
    "#print(tlist_max)\n",
    "# avarage temp for the 5 days\n",
    "print(str(avg_min) + \" - AVG MIN\") \n",
    "print(str(avg_max) + \" - AVG MAX\") \n",
    "# median value\n",
    "print(med_min)\n",
    "print(med_max)\n",
    "\n",
    "\n"
   ]
  },
  {
   "cell_type": "code",
   "execution_count": 19,
   "metadata": {},
   "outputs": [
    {
     "output_type": "execute_result",
     "data": {
      "text/plain": [
       "' LETS get the city key '"
      ]
     },
     "metadata": {},
     "execution_count": 19
    }
   ],
   "source": [
    "''' LETS get the city key '''"
   ]
  },
  {
   "cell_type": "code",
   "execution_count": 20,
   "metadata": {},
   "outputs": [],
   "source": [
    "city_key = ''' [\n",
    "    {\n",
    "        \"Version\": 1,\n",
    "        \"Key\": \"301285\",\n",
    "        \"Type\": \"City\",\n",
    "        \"Rank\": 45,\n",
    "        \"LocalizedName\": \"Brackenfell\",\n",
    "        \"EnglishName\": \"Brackenfell\",\n",
    "        \"PrimaryPostalCode\": \"\",\n",
    "        \"Region\": {\n",
    "            \"ID\": \"AFR\",\n",
    "            \"LocalizedName\": \"Africa\",\n",
    "            \"EnglishName\": \"Africa\"\n",
    "        },\n",
    "        \"Country\": {\n",
    "            \"ID\": \"ZA\",\n",
    "            \"LocalizedName\": \"South Africa\",\n",
    "            \"EnglishName\": \"South Africa\"\n",
    "        },\n",
    "        \"AdministrativeArea\": {\n",
    "            \"ID\": \"WC\",\n",
    "            \"LocalizedName\": \"Western Cape\",\n",
    "            \"EnglishName\": \"Western Cape\",\n",
    "            \"Level\": 1,\n",
    "            \"LocalizedType\": \"Province\",\n",
    "            \"EnglishType\": \"Province\",\n",
    "            \"CountryID\": \"ZA\"\n",
    "        },\n",
    "        \"TimeZone\": {\n",
    "            \"Code\": \"SAST\",\n",
    "            \"Name\": \"Africa/Johannesburg\",\n",
    "            \"GmtOffset\": 2,\n",
    "            \"IsDaylightSaving\": false,\n",
    "            \"NextOffsetChange\": null\n",
    "        },\n",
    "        \"GeoPosition\": {\n",
    "            \"Latitude\": -33.867,\n",
    "            \"Longitude\": 18.683,\n",
    "            \"Elevation\": {\n",
    "                \"Metric\": {\n",
    "                    \"Value\": 101,\n",
    "                    \"Unit\": \"m\",\n",
    "                    \"UnitType\": 5\n",
    "                },\n",
    "                \"Imperial\": {\n",
    "                    \"Value\": 331,\n",
    "                    \"Unit\": \"ft\",\n",
    "                    \"UnitType\": 0\n",
    "                }\n",
    "            }\n",
    "        },\n",
    "        \"IsAlias\": false,\n",
    "        \"SupplementalAdminAreas\": [\n",
    "            {\n",
    "                \"Level\": 2,\n",
    "                \"LocalizedName\": \"City Of Cape Town\",\n",
    "                \"EnglishName\": \"City Of Cape Town\"\n",
    "            }\n",
    "        ],\n",
    "        \"DataSets\": [\n",
    "            \"AirQualityCurrentConditions\",\n",
    "            \"AirQualityForecasts\"\n",
    "        ]\n",
    "    }\n",
    "]'''"
   ]
  },
  {
   "cell_type": "code",
   "execution_count": 30,
   "metadata": {},
   "outputs": [
    {
     "output_type": "stream",
     "name": "stdout",
     "text": [
      " [\n    {\n        \"Version\": 1,\n        \"Key\": \"301285\",\n        \"Type\": \"City\",\n        \"Rank\": 45,\n        \"LocalizedName\": \"Brackenfell\",\n        \"EnglishName\": \"Brackenfell\",\n        \"PrimaryPostalCode\": \"\",\n        \"Region\": {\n            \"ID\": \"AFR\",\n            \"LocalizedName\": \"Africa\",\n            \"EnglishName\": \"Africa\"\n        },\n        \"Country\": {\n            \"ID\": \"ZA\",\n            \"LocalizedName\": \"South Africa\",\n            \"EnglishName\": \"South Africa\"\n        },\n        \"AdministrativeArea\": {\n            \"ID\": \"WC\",\n            \"LocalizedName\": \"Western Cape\",\n            \"EnglishName\": \"Western Cape\",\n            \"Level\": 1,\n            \"LocalizedType\": \"Province\",\n            \"EnglishType\": \"Province\",\n            \"CountryID\": \"ZA\"\n        },\n        \"TimeZone\": {\n            \"Code\": \"SAST\",\n            \"Name\": \"Africa/Johannesburg\",\n            \"GmtOffset\": 2,\n            \"IsDaylightSaving\": false,\n            \"NextOffsetChange\": null\n        },\n        \"GeoPosition\": {\n            \"Latitude\": -33.867,\n            \"Longitude\": 18.683,\n            \"Elevation\": {\n                \"Metric\": {\n                    \"Value\": 101,\n                    \"Unit\": \"m\",\n                    \"UnitType\": 5\n                },\n                \"Imperial\": {\n                    \"Value\": 331,\n                    \"Unit\": \"ft\",\n                    \"UnitType\": 0\n                }\n            }\n        },\n        \"IsAlias\": false,\n        \"SupplementalAdminAreas\": [\n            {\n                \"Level\": 2,\n                \"LocalizedName\": \"City Of Cape Town\",\n                \"EnglishName\": \"City Of Cape Town\"\n            }\n        ],\n        \"DataSets\": [\n            \"AirQualityCurrentConditions\",\n            \"AirQualityForecasts\"\n        ]\n    }\n]\n"
     ]
    }
   ],
   "source": [
    "ckey = json.loads(city_key)\n",
    "\n",
    "print(city_key)"
   ]
  },
  {
   "cell_type": "code",
   "execution_count": 26,
   "metadata": {},
   "outputs": [
    {
     "output_type": "stream",
     "name": "stdout",
     "text": [
      "301285\n"
     ]
    }
   ],
   "source": [
    "for c in ckey:\n",
    "    print(c['Key'])"
   ]
  },
  {
   "cell_type": "code",
   "execution_count": 35,
   "metadata": {},
   "outputs": [
    {
     "output_type": "stream",
     "name": "stdout",
     "text": [
      "301285\n"
     ]
    }
   ],
   "source": [
    "mylist = [{'Version': 1, 'Key': '301285', 'Type': 'City', 'Rank': 45, 'LocalizedName': 'Brackenfell', 'EnglishName': 'Brackenfell', 'PrimaryPostalCode': '', 'Region': {'ID': 'AFR', 'LocalizedName': 'Africa', 'EnglishName': 'Africa'}, 'Country': {'ID': 'ZA', 'LocalizedName': 'South Africa', 'EnglishName': 'South Africa'}, 'AdministrativeArea': {'ID': 'WC', 'LocalizedName': 'Western Cape', 'EnglishName': 'Western Cape', 'Level': 1, 'LocalizedType': 'Province', 'EnglishType': 'Province', 'CountryID': 'ZA'}, 'TimeZone': {'Code': 'SAST', 'Name': 'Africa/Johannesburg', 'GmtOffset': 2.0, 'IsDaylightSaving': False, 'NextOffsetChange': None}, 'GeoPosition': {'Latitude': -33.867, 'Longitude': 18.683, 'Elevation': {'Metric': {'Value': 101.0, 'Unit': 'm', 'UnitType': 5}, 'Imperial': {'Value': 331.0, 'Unit': 'ft', 'UnitType': 0}}}, 'IsAlias': False, 'SupplementalAdminAreas': [{'Level': 2, 'LocalizedName': 'City Of Cape Town', 'EnglishName': 'City Of Cape Town'}], 'DataSets': ['AirQualityCurrentConditions', 'AirQualityForecasts']}]\n",
    "\n",
    "for l in mylist:\n",
    "    print(l['Key'])"
   ]
  },
  {
   "cell_type": "code",
   "execution_count": 1,
   "metadata": {},
   "outputs": [
    {
     "output_type": "stream",
     "name": "stdout",
     "text": [
      "09/26/2008\n"
     ]
    }
   ],
   "source": [
    "\n",
    "\n",
    "import dateutil.parser\n",
    "\n",
    "d = dateutil.parser.parse('2008-09-26T01:51:42.000Z')\n",
    "print(d.strftime('%m/%d/%Y'))\n"
   ]
  },
  {
   "cell_type": "code",
   "execution_count": null,
   "metadata": {},
   "outputs": [],
   "source": []
  }
 ]
}